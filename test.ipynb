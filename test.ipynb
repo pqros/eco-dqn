{
 "cells": [
  {
   "cell_type": "markdown",
   "id": "institutional-budapest",
   "metadata": {},
   "source": [
    "# Test"
   ]
  },
  {
   "cell_type": "markdown",
   "id": "welsh-variance",
   "metadata": {},
   "source": [
    "utils.py"
   ]
  },
  {
   "cell_type": "code",
   "execution_count": 11,
   "id": "maritime-structure",
   "metadata": {},
   "outputs": [],
   "source": [
    "from collections import namedtuple\n",
    "import random\n",
    "import torch"
   ]
  },
  {
   "cell_type": "code",
   "execution_count": 2,
   "id": "environmental-alpha",
   "metadata": {},
   "outputs": [],
   "source": [
    "Transition = namedtuple(\n",
    "    'Transition', ('state', 'action', 'reward', 'state_next', 'done')\n",
    ")"
   ]
  },
  {
   "cell_type": "code",
   "execution_count": 6,
   "id": "royal-queue",
   "metadata": {},
   "outputs": [
    {
     "data": {
      "text/plain": [
       "[Transition(state=[0, 1, 2], action=0, reward=5, state_next=[2, 3, 4], done=False),\n",
       " Transition(state=[1, 2, 3], action=1, reward=6, state_next=[3, 4, 5], done=False),\n",
       " Transition(state=[2, 3, 4], action=2, reward=7, state_next=[4, 5, 6], done=False),\n",
       " Transition(state=[3, 4, 5], action=3, reward=8, state_next=[5, 6, 7], done=False),\n",
       " Transition(state=[4, 5, 6], action=4, reward=9, state_next=[6, 7, 8], done=False),\n",
       " Transition(state=[5, 6, 7], action=5, reward=10, state_next=[7, 8, 9], done=False),\n",
       " Transition(state=[6, 7, 8], action=6, reward=11, state_next=[8, 9, 10], done=False),\n",
       " Transition(state=[7, 8, 9], action=7, reward=12, state_next=[9, 10, 11], done=False),\n",
       " Transition(state=[8, 9, 10], action=8, reward=13, state_next=[10, 11, 12], done=False),\n",
       " Transition(state=[9, 10, 11], action=9, reward=14, state_next=[11, 12, 13], done=False)]"
      ]
     },
     "execution_count": 6,
     "metadata": {},
     "output_type": "execute_result"
    }
   ],
   "source": [
    "memory = [Transition([i,i+1,i+2], i, i+5, [i+2,i+3, i+4], False) for i in range(10)]\n",
    "memory"
   ]
  },
  {
   "cell_type": "code",
   "execution_count": 12,
   "id": "afraid-government",
   "metadata": {},
   "outputs": [
    {
     "ename": "TypeError",
     "evalue": "expected Tensor as element 0 in argument 0, but got list",
     "output_type": "error",
     "traceback": [
      "\u001b[0;31m---------------------------------------------------------------------------\u001b[0m",
      "\u001b[0;31mTypeError\u001b[0m                                 Traceback (most recent call last)",
      "\u001b[0;32m<ipython-input-12-efc3859c9954>\u001b[0m in \u001b[0;36m<module>\u001b[0;34m\u001b[0m\n\u001b[1;32m      1\u001b[0m \u001b[0mbatch\u001b[0m \u001b[0;34m=\u001b[0m \u001b[0mrandom\u001b[0m\u001b[0;34m.\u001b[0m\u001b[0msample\u001b[0m\u001b[0;34m(\u001b[0m\u001b[0mmemory\u001b[0m\u001b[0;34m,\u001b[0m \u001b[0;36m3\u001b[0m\u001b[0;34m)\u001b[0m\u001b[0;34m\u001b[0m\u001b[0;34m\u001b[0m\u001b[0m\n\u001b[1;32m      2\u001b[0m \u001b[0;32mfor\u001b[0m \u001b[0mtensor\u001b[0m \u001b[0;32min\u001b[0m \u001b[0mzip\u001b[0m\u001b[0;34m(\u001b[0m\u001b[0;34m*\u001b[0m\u001b[0mbatch\u001b[0m\u001b[0;34m)\u001b[0m\u001b[0;34m:\u001b[0m\u001b[0;34m\u001b[0m\u001b[0;34m\u001b[0m\u001b[0m\n\u001b[0;32m----> 3\u001b[0;31m     \u001b[0mprint\u001b[0m\u001b[0;34m(\u001b[0m\u001b[0mtorch\u001b[0m\u001b[0;34m.\u001b[0m\u001b[0mstack\u001b[0m\u001b[0;34m(\u001b[0m\u001b[0mtensor\u001b[0m\u001b[0;34m)\u001b[0m\u001b[0;34m)\u001b[0m\u001b[0;34m\u001b[0m\u001b[0;34m\u001b[0m\u001b[0m\n\u001b[0m",
      "\u001b[0;31mTypeError\u001b[0m: expected Tensor as element 0 in argument 0, but got list"
     ]
    }
   ],
   "source": [
    "batch = random.sample(memory, 3)\n",
    "for tensors in zip(*batch):\n",
    "    print(torch.stack(tensors))"
   ]
  },
  {
   "cell_type": "code",
   "execution_count": 13,
   "id": "qualified-evaluation",
   "metadata": {},
   "outputs": [
    {
     "name": "stderr",
     "output_type": "stream",
     "text": [
      "(daemon    ) Starting\n",
      "(non-daemon) Starting\n",
      "(non-daemon) Exiting\n",
      "(daemon    ) Exiting\n"
     ]
    }
   ],
   "source": [
    "import threading\n",
    "import time\n",
    "import logging\n",
    "\n",
    "logging.basicConfig(level=logging.DEBUG,\n",
    "                    format='(%(threadName)-10s) %(message)s',\n",
    "                    )\n",
    "\n",
    "def daemon():\n",
    "    logging.debug('Starting')\n",
    "    time.sleep(2)\n",
    "    logging.debug('Exiting')\n",
    "\n",
    "d = threading.Thread(name='daemon', target=daemon)\n",
    "d.setDaemon(True)\n",
    "\n",
    "def non_daemon():\n",
    "    logging.debug('Starting')\n",
    "    logging.debug('Exiting')\n",
    "\n",
    "t = threading.Thread(name='non-daemon', target=non_daemon)\n",
    "\n",
    "d.start()\n",
    "t.start()\n",
    "\n",
    "d.join()\n",
    "t.join()"
   ]
  },
  {
   "cell_type": "markdown",
   "id": "logical-armor",
   "metadata": {},
   "source": [
    "**utils.py**"
   ]
  },
  {
   "cell_type": "code",
   "execution_count": 14,
   "id": "applied-visiting",
   "metadata": {},
   "outputs": [],
   "source": [
    "from src.envs.utils import *"
   ]
  },
  {
   "cell_type": "code",
   "execution_count": 25,
   "id": "prerequisite-entrepreneur",
   "metadata": {},
   "outputs": [],
   "source": [
    "c = RandomGraphGenerator(edge_type=EdgeType.RANDOM, biased=True)"
   ]
  },
  {
   "cell_type": "code",
   "execution_count": 27,
   "id": "tamil-muslim",
   "metadata": {
    "collapsed": true,
    "jupyter": {
     "outputs_hidden": true
    }
   },
   "outputs": [
    {
     "data": {
      "text/plain": [
       "array([[ 0.        ,  0.        ,  0.75762998, -0.0646509 ,  0.        ,\n",
       "         0.        ,  0.        , -0.48400772,  0.        ,  0.0758613 ,\n",
       "         0.        ,  0.57401222,  0.        , -0.94918144,  0.        ,\n",
       "         0.        ,  0.        ,  0.        ,  0.63886614,  0.        ],\n",
       "       [ 0.        ,  0.        , -0.76482022,  0.06200996,  0.        ,\n",
       "         0.39420424,  0.        ,  0.        ,  0.27960889,  0.        ,\n",
       "         0.        ,  0.        , -0.01299267, -0.31354448,  0.        ,\n",
       "         0.02998629,  0.10713971,  0.52407734,  0.        ,  0.47528093],\n",
       "       [ 0.75762998, -0.76482022,  0.        ,  0.        ,  0.        ,\n",
       "         0.52941582,  0.96130291,  0.        ,  0.18215541,  0.        ,\n",
       "         0.        ,  0.        , -0.41901962,  0.        ,  0.        ,\n",
       "        -0.04966873,  0.        ,  0.        ,  0.        ,  0.        ],\n",
       "       [-0.0646509 ,  0.06200996,  0.        ,  0.        , -0.87808441,\n",
       "         0.        , -0.35489523,  0.        ,  0.        ,  0.28518481,\n",
       "         0.        ,  0.        , -0.20882131,  0.62979432,  0.        ,\n",
       "         0.        ,  0.        ,  0.61226348,  0.45997869,  0.60556904],\n",
       "       [ 0.        ,  0.        ,  0.        , -0.87808441,  0.        ,\n",
       "        -0.83808464, -0.81169553, -0.46707094,  0.95576751,  0.        ,\n",
       "         0.59281785,  0.        ,  0.        ,  0.        ,  0.73362695,\n",
       "         0.        ,  0.40878071,  0.        ,  0.        , -0.39743796],\n",
       "       [ 0.        ,  0.39420424,  0.52941582,  0.        , -0.83808464,\n",
       "         0.        ,  0.99211889, -0.40662367,  0.7018821 ,  0.        ,\n",
       "         0.        ,  0.        , -0.35270326,  0.        , -0.69870235,\n",
       "         0.        ,  0.85491063, -0.17492424,  0.        ,  0.        ],\n",
       "       [ 0.        ,  0.        ,  0.96130291, -0.35489523, -0.81169553,\n",
       "         0.99211889,  0.        ,  0.        ,  0.83348854,  0.        ,\n",
       "         0.        ,  0.63523908,  0.        , -0.15839394,  0.        ,\n",
       "        -0.59167609,  0.83985637,  0.        , -0.41935922,  0.94564336],\n",
       "       [-0.48400772,  0.        ,  0.        ,  0.        , -0.46707094,\n",
       "        -0.40662367,  0.        ,  0.        , -0.23566169,  0.        ,\n",
       "        -0.42351623, -0.30956415,  0.90991189,  0.        ,  0.        ,\n",
       "         0.        ,  0.        , -0.34715422,  0.173899  ,  0.49452864],\n",
       "       [ 0.        ,  0.27960889,  0.18215541,  0.        ,  0.95576751,\n",
       "         0.7018821 ,  0.83348854, -0.23566169,  0.        ,  0.51240043,\n",
       "         0.        ,  0.71215839, -0.22381551,  0.        ,  0.04892618,\n",
       "        -0.5544002 ,  0.        ,  0.        ,  0.70816831,  0.        ],\n",
       "       [ 0.0758613 ,  0.        ,  0.        ,  0.28518481,  0.        ,\n",
       "         0.        ,  0.        ,  0.        ,  0.51240043,  0.        ,\n",
       "         0.        ,  0.60792848,  0.        , -0.58012431,  0.        ,\n",
       "         0.74744338,  0.        ,  0.        , -0.81970876,  0.        ],\n",
       "       [ 0.        ,  0.        ,  0.        ,  0.        ,  0.59281785,\n",
       "         0.        ,  0.        , -0.42351623,  0.        ,  0.        ,\n",
       "         0.        , -0.70010522,  0.        ,  0.        ,  0.        ,\n",
       "         0.        ,  0.31479425,  0.        ,  0.        , -0.77841891],\n",
       "       [ 0.57401222,  0.        ,  0.        ,  0.        ,  0.        ,\n",
       "         0.        ,  0.63523908, -0.30956415,  0.71215839,  0.60792848,\n",
       "        -0.70010522,  0.        ,  0.        ,  0.        ,  0.        ,\n",
       "         0.        ,  0.        ,  0.56918648, -0.2096346 ,  0.        ],\n",
       "       [ 0.        , -0.01299267, -0.41901962, -0.20882131,  0.        ,\n",
       "        -0.35270326,  0.        ,  0.90991189, -0.22381551,  0.        ,\n",
       "         0.        ,  0.        ,  0.        ,  0.77037251,  0.        ,\n",
       "        -0.51362852, -0.97865138,  0.40725041, -0.87961183, -0.08830759],\n",
       "       [-0.94918144, -0.31354448,  0.        ,  0.62979432,  0.        ,\n",
       "         0.        , -0.15839394,  0.        ,  0.        , -0.58012431,\n",
       "         0.        ,  0.        ,  0.77037251,  0.        ,  0.        ,\n",
       "         0.        ,  0.85252674, -0.05672053,  0.        , -0.62957327],\n",
       "       [ 0.        ,  0.        ,  0.        ,  0.        ,  0.73362695,\n",
       "        -0.69870235,  0.        ,  0.        ,  0.04892618,  0.        ,\n",
       "         0.        ,  0.        ,  0.        ,  0.        ,  0.        ,\n",
       "         0.        ,  0.        ,  0.        ,  0.        ,  0.56908921],\n",
       "       [ 0.        ,  0.02998629, -0.04966873,  0.        ,  0.        ,\n",
       "         0.        , -0.59167609,  0.        , -0.5544002 ,  0.74744338,\n",
       "         0.        ,  0.        , -0.51362852,  0.        ,  0.        ,\n",
       "         0.        ,  0.        ,  0.        ,  0.        ,  0.        ],\n",
       "       [ 0.        ,  0.10713971,  0.        ,  0.        ,  0.40878071,\n",
       "         0.85491063,  0.83985637,  0.        ,  0.        ,  0.        ,\n",
       "         0.31479425,  0.        , -0.97865138,  0.85252674,  0.        ,\n",
       "         0.        ,  0.        ,  0.        ,  0.        ,  0.        ],\n",
       "       [ 0.        ,  0.52407734,  0.        ,  0.61226348,  0.        ,\n",
       "        -0.17492424,  0.        , -0.34715422,  0.        ,  0.        ,\n",
       "         0.        ,  0.56918648,  0.40725041, -0.05672053,  0.        ,\n",
       "         0.        ,  0.        ,  0.        , -0.11919522,  0.        ],\n",
       "       [ 0.63886614,  0.        ,  0.        ,  0.45997869,  0.        ,\n",
       "         0.        , -0.41935922,  0.173899  ,  0.70816831, -0.81970876,\n",
       "         0.        , -0.2096346 , -0.87961183,  0.        ,  0.        ,\n",
       "         0.        ,  0.        , -0.11919522,  0.        ,  0.86789009],\n",
       "       [ 0.        ,  0.47528093,  0.        ,  0.60556904, -0.39743796,\n",
       "         0.        ,  0.94564336,  0.49452864,  0.        ,  0.        ,\n",
       "        -0.77841891,  0.        , -0.08830759, -0.62957327,  0.56908921,\n",
       "         0.        ,  0.        ,  0.        ,  0.86789009,  0.        ]])"
      ]
     },
     "execution_count": 27,
     "metadata": {},
     "output_type": "execute_result"
    }
   ],
   "source": [
    "c.get()[0]"
   ]
  },
  {
   "cell_type": "markdown",
   "id": "nonprofit-attack",
   "metadata": {},
   "source": [
    "**spinsystem.py**"
   ]
  },
  {
   "cell_type": "code",
   "execution_count": 29,
   "id": "honey-doubt",
   "metadata": {},
   "outputs": [],
   "source": [
    "ActionResult = namedtuple(\n",
    "    \"action_result\", (\"snapshot\", \"observation\", \"reward\", \"is_done\", \"info\"))"
   ]
  },
  {
   "cell_type": "code",
   "execution_count": 33,
   "id": "preliminary-satellite",
   "metadata": {},
   "outputs": [
    {
     "data": {
      "text/plain": [
       "1"
      ]
     },
     "execution_count": 33,
     "metadata": {},
     "output_type": "execute_result"
    }
   ],
   "source": [
    "a = ActionResult(1, 2, 3, 4, 5)\n",
    "a.snapshot"
   ]
  },
  {
   "cell_type": "code",
   "execution_count": null,
   "id": "acute-ceremony",
   "metadata": {},
   "outputs": [],
   "source": []
  }
 ],
 "metadata": {
  "kernelspec": {
   "display_name": "base",
   "language": "python",
   "name": "base"
  },
  "language_info": {
   "codemirror_mode": {
    "name": "ipython",
    "version": 3
   },
   "file_extension": ".py",
   "mimetype": "text/x-python",
   "name": "python",
   "nbconvert_exporter": "python",
   "pygments_lexer": "ipython3",
   "version": "3.7.4"
  }
 },
 "nbformat": 4,
 "nbformat_minor": 5
}
